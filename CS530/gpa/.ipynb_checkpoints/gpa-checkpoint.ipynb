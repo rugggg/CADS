{
 "cells": [
  {
   "cell_type": "code",
   "execution_count": null,
   "metadata": {
    "collapsed": true
   },
   "outputs": [],
   "source": [
    "import matplotlib.pyplot as plt\n",
    "import numpy as np\n",
    "import math\n",
    "\n",
    "data = np.genfromtxt('GPA_Reg.csv',delimiter=',');\n",
    "\n",
    "data = np.transpose(data)\n",
    "\n",
    "x = np.delete(data[0],0)\n",
    "y = np.delete(data[1],0)\n",
    "\n",
    "def getMu(vec):\n",
    "    _mu = 0\n",
    "    for i in range (0,len(vec)):\n",
    "        _mu += vec[i]\n",
    "    return _mu/len(vec)\n",
    "\n",
    "def getR(x_vec, y_vec):\n",
    "    x_mu = getMu(x_vec)\n",
    "    y_mu = getMu(y_vec)\n",
    "    nume = 0\n",
    "    x_2 = 0\n",
    "    y_2 = 0\n",
    "    for i in range(0,len(x_vec)):\n",
    "        x = x_vec[i]-x_mu\n",
    "        y = y_vec[i]-y_mu\n",
    "        nume += x*y\n",
    "        x_2 += x**2\n",
    "        y_2 += y**2\n",
    "    return nume/(math.sqrt(x_2*y_2))\n",
    "\n",
    "def stdDev(vec):\n",
    "    _mu = getMu(vec)\n",
    "    sum_vec = 0\n",
    "    for i in range(0,len(vec)):\n",
    "        sum_vec += (vec[i] - _mu)**2\n",
    "    return(math.sqrt((sum_vec)/len(vec)))\n",
    "\n",
    "def estimateY(x,m,b):\n",
    "    return (m*x)+b\n",
    "def plot(x,y,m,b):\n",
    "    plt.plot(x,y, 'yo', x, estimateY(x,m,b), '--k')\n",
    "    plt.show()\n",
    "\n",
    "def main():\n",
    "    data = np.genfromtxt('GPA_Reg.csv',delimiter=',');\n",
    "    data = np.transpose(data)\n",
    "    x = np.delete(data[0],0)\n",
    "    y = np.delete(data[1],0)\n",
    "\n",
    "    r = getR(x,y)\n",
    "    \n",
    "    stdX = stdDev(x)\n",
    "    stdY = stdDev(y)\n",
    "\n",
    "    m = r*(stdY/stdX)\n",
    "    b = getMu(y)-(m*getMu(x))\n",
    "    plot(x,y,m,b) \n",
    "\n",
    "if __name__ == \"__main__\":\n",
    "    main()\n"
   ]
  }
 ],
 "metadata": {
  "kernelspec": {
   "display_name": "Python 3",
   "language": "python",
   "name": "python3"
  },
  "language_info": {
   "codemirror_mode": {
    "name": "ipython",
    "version": 3
   },
   "file_extension": ".py",
   "mimetype": "text/x-python",
   "name": "python",
   "nbconvert_exporter": "python",
   "pygments_lexer": "ipython3",
   "version": "3.6.0"
  }
 },
 "nbformat": 4,
 "nbformat_minor": 2
}
