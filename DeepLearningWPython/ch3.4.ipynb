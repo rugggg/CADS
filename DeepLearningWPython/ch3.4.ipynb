{
 "cells": [
  {
   "cell_type": "code",
   "execution_count": 9,
   "metadata": {},
   "outputs": [],
   "source": [
    "from keras.datasets import imdb\n",
    "import numpy as np\n"
   ]
  },
  {
   "cell_type": "code",
   "execution_count": 4,
   "metadata": {},
   "outputs": [],
   "source": [
    "(train_data, train_labels), (test_data, test_labels) = imdb.load_data(num_words=10000)"
   ]
  },
  {
   "cell_type": "code",
   "execution_count": 8,
   "metadata": {},
   "outputs": [
    {
     "data": {
      "text/plain": [
       "\"? this film was just brilliant casting location scenery story direction everyone's really suited the part they played and you could just imagine being there robert ? is an amazing actor and now the same being director ? father came from the same scottish island as myself so i loved the fact there was a real connection with this film the witty remarks throughout the film were great it was just brilliant so much that i bought the film as soon as it was released for ? and would recommend it to everyone to watch and the fly fishing was amazing really cried at the end it was so sad and you know what they say if you cry at a film it must have been good and this definitely was also ? to the two little boy's that played the ? of norman and paul they were just brilliant children are often left out of the ? list i think because the stars that play them all grown up are such a big profile for the whole film but these children are amazing and should be praised for what they have done don't you think the whole story was so lovely because it was true and was someone's life after all that was shared with us all\""
      ]
     },
     "execution_count": 8,
     "metadata": {},
     "output_type": "execute_result"
    }
   ],
   "source": [
    "# decoding back to english \n",
    "word_index = imdb.get_word_index()\n",
    "reverse_word_index = dict(\n",
    "    [(value,key) for (key, value) in word_index.items()])\n",
    "decoded_review = ' '.join([reverse_word_index.get(i - 3, '?') for i in train_data[0]])\n",
    "decoded_review"
   ]
  },
  {
   "cell_type": "code",
   "execution_count": 32,
   "metadata": {},
   "outputs": [],
   "source": [
    "############################################################\n",
    "## vectorize the data - in this case use one hot encoding ##\n",
    "############################################################\n",
    "def vectorize_sequences(sequences, dimension=10000): \n",
    "    results = np.zeros((len(sequences), dimension))\n",
    "    for i, sequence in enumerate(sequences):\n",
    "        results[i, sequence] = 1.\n",
    "    return results\n",
    "\n",
    "# one hot encode all x's\n",
    "x_train = vectorize_sequences(train_data)\n",
    "x_test = vectorize_sequences(test_data)\n",
    "\n",
    "# and all the ys\n",
    "y_train = np.asarray(train_labels).astype('float32')\n",
    "y_test = np.asarray(test_labels).astype('float32')\n"
   ]
  },
  {
   "cell_type": "code",
   "execution_count": 33,
   "metadata": {},
   "outputs": [],
   "source": [
    "#############################################################\n",
    "## time to build a neural network - dense, fully connected ##\n",
    "#############################################################\n",
    "\n",
    "# input data is vectors and the labels are binary\n",
    "# use dense with relu activations\n",
    "\n",
    "# two hidden layers - 16 hidden units each - using relu activation\n",
    "# final layer with output of a binary scalar - using a sigmoid activation function to output between 0/1\n",
    "\n",
    "from keras import models\n",
    "from keras import layers\n",
    "\n",
    "model = models.Sequential()\n",
    "model.add(layers.Dense(16, activation='relu', input_shape=(10000,)))\n",
    "model.add(layers.Dense(16, activation='relu'))\n",
    "model.add(layers.Dense(1, activation='sigmoid'))\n"
   ]
  },
  {
   "cell_type": "code",
   "execution_count": 34,
   "metadata": {},
   "outputs": [],
   "source": [
    "# set a loss function\n",
    "# because we are doing binary classification and output of network is a probability\n",
    "# (ie: network ends with single unit sigmoid activation) we will use binary_crossentropy\n",
    "\n",
    "# compile the model\n",
    "\n",
    "model.compile(optimizer='rmsprop',\n",
    "              loss='binary_crossentropy',\n",
    "              metrics=['accuracy'])\n"
   ]
  },
  {
   "cell_type": "code",
   "execution_count": 35,
   "metadata": {},
   "outputs": [],
   "source": [
    "### customizing the optimizer, losses, metrics\n",
    "from keras import optimizers, losses, metrics\n",
    "\n",
    "model.compile(optimizer=optimizers.RMSprop(lr=0.001),\n",
    "              loss=losses.binary_crossentropy,\n",
    "              metrics=[metrics.binary_accuracy])\n"
   ]
  },
  {
   "cell_type": "code",
   "execution_count": 36,
   "metadata": {},
   "outputs": [
    {
     "name": "stdout",
     "output_type": "stream",
     "text": [
      "Train on 15000 samples, validate on 10000 samples\n",
      "Epoch 1/20\n",
      "15000/15000 [==============================] - 2s 103us/step - loss: 0.5276 - acc: 0.7888 - val_loss: 0.4409 - val_acc: 0.8278\n",
      "Epoch 2/20\n",
      "15000/15000 [==============================] - 1s 92us/step - loss: 0.3244 - acc: 0.8978 - val_loss: 0.3175 - val_acc: 0.8780\n",
      "Epoch 3/20\n",
      "15000/15000 [==============================] - 1s 94us/step - loss: 0.2312 - acc: 0.9254 - val_loss: 0.2809 - val_acc: 0.8900\n",
      "Epoch 4/20\n",
      "15000/15000 [==============================] - 1s 95us/step - loss: 0.1799 - acc: 0.9398 - val_loss: 0.2851 - val_acc: 0.8845\n",
      "Epoch 5/20\n",
      "15000/15000 [==============================] - 1s 94us/step - loss: 0.1471 - acc: 0.9538 - val_loss: 0.2879 - val_acc: 0.8838\n",
      "Epoch 6/20\n",
      "15000/15000 [==============================] - 1s 92us/step - loss: 0.1205 - acc: 0.9620 - val_loss: 0.2890 - val_acc: 0.8862\n",
      "Epoch 7/20\n",
      "15000/15000 [==============================] - 1s 92us/step - loss: 0.0987 - acc: 0.9715 - val_loss: 0.3055 - val_acc: 0.8841\n",
      "Epoch 8/20\n",
      "15000/15000 [==============================] - 1s 92us/step - loss: 0.0824 - acc: 0.9763 - val_loss: 0.3265 - val_acc: 0.8812\n",
      "Epoch 9/20\n",
      "15000/15000 [==============================] - 1s 92us/step - loss: 0.0664 - acc: 0.9827 - val_loss: 0.3458 - val_acc: 0.8826\n",
      "Epoch 10/20\n",
      "15000/15000 [==============================] - 1s 92us/step - loss: 0.0541 - acc: 0.9867 - val_loss: 0.3736 - val_acc: 0.8780\n",
      "Epoch 11/20\n",
      "15000/15000 [==============================] - 1s 92us/step - loss: 0.0436 - acc: 0.9908 - val_loss: 0.4046 - val_acc: 0.8770\n",
      "Epoch 12/20\n",
      "15000/15000 [==============================] - 1s 92us/step - loss: 0.0348 - acc: 0.9924 - val_loss: 0.4330 - val_acc: 0.8708\n",
      "Epoch 13/20\n",
      "15000/15000 [==============================] - 1s 92us/step - loss: 0.0283 - acc: 0.9943 - val_loss: 0.4599 - val_acc: 0.8748\n",
      "Epoch 14/20\n",
      "15000/15000 [==============================] - 1s 92us/step - loss: 0.0188 - acc: 0.9974 - val_loss: 0.4880 - val_acc: 0.8733\n",
      "Epoch 15/20\n",
      "15000/15000 [==============================] - 1s 92us/step - loss: 0.0173 - acc: 0.9972 - val_loss: 0.5148 - val_acc: 0.8726\n",
      "Epoch 16/20\n",
      "15000/15000 [==============================] - 1s 92us/step - loss: 0.0138 - acc: 0.9978 - val_loss: 0.5452 - val_acc: 0.8728\n",
      "Epoch 17/20\n",
      "15000/15000 [==============================] - 1s 93us/step - loss: 0.0071 - acc: 0.9997 - val_loss: 0.6155 - val_acc: 0.8656\n",
      "Epoch 18/20\n",
      "15000/15000 [==============================] - 1s 92us/step - loss: 0.0115 - acc: 0.9973 - val_loss: 0.6035 - val_acc: 0.8692\n",
      "Epoch 19/20\n",
      "15000/15000 [==============================] - 1s 92us/step - loss: 0.0040 - acc: 0.9999 - val_loss: 0.6331 - val_acc: 0.8677\n",
      "Epoch 20/20\n",
      "15000/15000 [==============================] - 1s 92us/step - loss: 0.0068 - acc: 0.9987 - val_loss: 0.6593 - val_acc: 0.8670\n"
     ]
    }
   ],
   "source": [
    "# actual model compile we want to use\n",
    "model.compile(optimizer='rmsprop',\n",
    "              loss='binary_crossentropy',\n",
    "              metrics=['acc'])\n",
    "# Validating\n",
    "\n",
    "# split out some validation data\n",
    "x_val = x_train[:10000]\n",
    "partial_x_train = x_train[10000:]\n",
    "\n",
    "y_val = y_train[:10000]\n",
    "partial_y_train = y_train[10000:]\n",
    "\n",
    "# train for 20 epochs\n",
    "\n",
    "history = model.fit(partial_x_train,\n",
    "                    partial_y_train,\n",
    "                    epochs=20,\n",
    "                    batch_size=512,\n",
    "                    validation_data=(x_val, y_val))"
   ]
  },
  {
   "cell_type": "code",
   "execution_count": 37,
   "metadata": {},
   "outputs": [
    {
     "data": {
      "text/plain": [
       "dict_keys(['val_loss', 'val_acc', 'loss', 'acc'])"
      ]
     },
     "execution_count": 37,
     "metadata": {},
     "output_type": "execute_result"
    }
   ],
   "source": [
    "history_dict = history.history\n",
    "history_dict.keys()"
   ]
  },
  {
   "cell_type": "code",
   "execution_count": 38,
   "metadata": {},
   "outputs": [
    {
     "data": {
      "image/png": "[encoded data removed]",
      "text/plain": [
       "<matplotlib.figure.Figure at 0x7f16c7674470>"
      ]
     },
     "metadata": {},
     "output_type": "display_data"
    }
   ],
   "source": [
    "import matplotlib.pyplot as plt\n",
    "\n",
    "history_dict = history.history\n",
    "loss_values = history_dict['loss']\n",
    "val_loss_values = history_dict['val_loss']\n",
    "acc = history_dict['acc']\n",
    "epochs = range(1, len(acc) +1)\n",
    "\n",
    "plt.plot(epochs, loss_values, 'bo', label ='Training Loss')\n",
    "plt.plot(epochs, val_loss_values, 'b', label='Validation loss')\n",
    "plt.title(\"Training and Validation Loss\")\n",
    "plt.xlabel('Epochs')\n",
    "plt.ylabel('Loss')\n",
    "plt.legend()\n",
    "\n",
    "plt.show()"
   ]
  },
  {
   "cell_type": "code",
   "execution_count": 39,
   "metadata": {},
   "outputs": [
    {
     "data": {
      "image/png": "[encoded data removed]",
      "text/plain": [
       "<matplotlib.figure.Figure at 0x7f16f9936908>"
      ]
     },
     "metadata": {},
     "output_type": "display_data"
    }
   ],
   "source": [
    "plt.clf() # clear figure\n",
    "acc_values = history_dict['acc']\n",
    "val_acc_values = history_dict['val_acc']\n",
    "\n",
    "plt.plot(epochs, acc_values, 'bo', label='Training acc')\n",
    "plt.plot(epochs, val_acc_values, 'b', label='Validation acc')\n",
    "plt.title('Training and Validation accuracy')\n",
    "plt.xlabel('Epochs')\n",
    "plt.ylabel('Loss')\n",
    "plt.legend()\n",
    "\n",
    "plt.show()"
   ]
  },
  {
   "cell_type": "code",
   "execution_count": 42,
   "metadata": {},
   "outputs": [
    {
     "name": "stdout",
     "output_type": "stream",
     "text": [
      "Train on 15000 samples, validate on 10000 samples\n",
      "Epoch 1/4\n",
      "15000/15000 [==============================] - 2s 102us/step - loss: 0.5847 - acc: 0.7081 - val_loss: 0.4995 - val_acc: 0.7947\n",
      "Epoch 2/4\n",
      "15000/15000 [==============================] - 1s 92us/step - loss: 0.4179 - acc: 0.8817 - val_loss: 0.3788 - val_acc: 0.8785\n",
      "Epoch 3/4\n",
      "15000/15000 [==============================] - 1s 92us/step - loss: 0.2873 - acc: 0.9233 - val_loss: 0.3172 - val_acc: 0.8831\n",
      "Epoch 4/4\n",
      "15000/15000 [==============================] - 1s 92us/step - loss: 0.2104 - acc: 0.9396 - val_loss: 0.2945 - val_acc: 0.8867\n",
      "25000/25000 [==============================] - 2s 68us/step\n"
     ]
    },
    {
     "data": {
      "text/plain": [
       "[0.3115688149929047, 0.87768]"
      ]
     },
     "execution_count": 42,
     "metadata": {},
     "output_type": "execute_result"
    }
   ],
   "source": [
    "# note that the training loss and accuracy improve pretty much with each epoch - but the validation loss/accuracy \n",
    "# actually peaks at iteration 4 - this is showing us overfitting\n",
    "\n",
    "# let's train a new model - this timeonly 4 epochs\n",
    "\n",
    "model = models.Sequential()\n",
    "model.add(layers.Dense(16, activation='relu', input_shape=(10000,)))\n",
    "model.add(layers.Dense(16, activation='relu'))\n",
    "model.add(layers.Dense(1, activation='sigmoid'))\n",
    "\n",
    "# actual model compile we want to use\n",
    "model.compile(optimizer='rmsprop',\n",
    "              loss='binary_crossentropy',\n",
    "              metrics=['acc'])\n",
    "# Validating\n",
    "\n",
    "# split out some validation data\n",
    "x_val = x_train[:10000]\n",
    "partial_x_train = x_train[10000:]\n",
    "\n",
    "y_val = y_train[:10000]\n",
    "partial_y_train = y_train[10000:]\n",
    "\n",
    "# train for 20 epochs\n",
    "\n",
    "history = model.fit(partial_x_train,\n",
    "                    partial_y_train,\n",
    "                    epochs=4,\n",
    "                    batch_size=512,\n",
    "                    validation_data=(x_val, y_val))\n",
    "results = model.evaluate(x_test, y_test)\n",
    "\n",
    "results"
   ]
  },
  {
   "cell_type": "code",
   "execution_count": 43,
   "metadata": {},
   "outputs": [
    {
     "data": {
      "text/plain": [
       "array([[0.293179  ],\n",
       "       [0.99991536],\n",
       "       [0.9819484 ],\n",
       "       ...,\n",
       "       [0.18942809],\n",
       "       [0.26151368],\n",
       "       [0.60903883]], dtype=float32)"
      ]
     },
     "execution_count": 43,
     "metadata": {},
     "output_type": "execute_result"
    }
   ],
   "source": [
    "# now let's predict using our trained model\n",
    "\n",
    "model.predict(x_test)"
   ]
  }
 ],
 "metadata": {
  "kernelspec": {
   "display_name": "Python 3",
   "language": "python",
   "name": "python3"
  },
  "language_info": {
   "codemirror_mode": {
    "name": "ipython",
    "version": 3
   },
   "file_extension": ".py",
   "mimetype": "text/x-python",
   "name": "python",
   "nbconvert_exporter": "python",
   "pygments_lexer": "ipython3",
   "version": "3.6.4"
  }
 },
 "nbformat": 4,
 "nbformat_minor": 2
}
